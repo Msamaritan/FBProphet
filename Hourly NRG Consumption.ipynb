{
 "cells": [
  {
   "cell_type": "code",
   "execution_count": 1,
   "metadata": {},
   "outputs": [],
   "source": [
    "import pandas as pd\n",
    "import numpy as np\n",
    "import matplotlib.pyplot as plt\n",
    "%matplotlib inline\n",
    "import fbprophet"
   ]
  },
  {
   "cell_type": "code",
   "execution_count": 2,
   "metadata": {},
   "outputs": [],
   "source": [
    "raw_data = pd.read_csv('PJME_hourly.csv')\n",
    "data = raw_data.copy()"
   ]
  },
  {
   "cell_type": "code",
   "execution_count": 3,
   "metadata": {},
   "outputs": [
    {
     "data": {
      "text/html": [
       "<div>\n",
       "<style scoped>\n",
       "    .dataframe tbody tr th:only-of-type {\n",
       "        vertical-align: middle;\n",
       "    }\n",
       "\n",
       "    .dataframe tbody tr th {\n",
       "        vertical-align: top;\n",
       "    }\n",
       "\n",
       "    .dataframe thead th {\n",
       "        text-align: right;\n",
       "    }\n",
       "</style>\n",
       "<table border=\"1\" class=\"dataframe\">\n",
       "  <thead>\n",
       "    <tr style=\"text-align: right;\">\n",
       "      <th></th>\n",
       "      <th>Datetime</th>\n",
       "      <th>PJME_MW</th>\n",
       "    </tr>\n",
       "  </thead>\n",
       "  <tbody>\n",
       "    <tr>\n",
       "      <th>145361</th>\n",
       "      <td>2018-01-01 20:00:00</td>\n",
       "      <td>44284.0</td>\n",
       "    </tr>\n",
       "    <tr>\n",
       "      <th>145362</th>\n",
       "      <td>2018-01-01 21:00:00</td>\n",
       "      <td>43751.0</td>\n",
       "    </tr>\n",
       "    <tr>\n",
       "      <th>145363</th>\n",
       "      <td>2018-01-01 22:00:00</td>\n",
       "      <td>42402.0</td>\n",
       "    </tr>\n",
       "    <tr>\n",
       "      <th>145364</th>\n",
       "      <td>2018-01-01 23:00:00</td>\n",
       "      <td>40164.0</td>\n",
       "    </tr>\n",
       "    <tr>\n",
       "      <th>145365</th>\n",
       "      <td>2018-01-02 00:00:00</td>\n",
       "      <td>38608.0</td>\n",
       "    </tr>\n",
       "  </tbody>\n",
       "</table>\n",
       "</div>"
      ],
      "text/plain": [
       "                   Datetime  PJME_MW\n",
       "145361  2018-01-01 20:00:00  44284.0\n",
       "145362  2018-01-01 21:00:00  43751.0\n",
       "145363  2018-01-01 22:00:00  42402.0\n",
       "145364  2018-01-01 23:00:00  40164.0\n",
       "145365  2018-01-02 00:00:00  38608.0"
      ]
     },
     "execution_count": 3,
     "metadata": {},
     "output_type": "execute_result"
    }
   ],
   "source": [
    "data.tail()"
   ]
  },
  {
   "cell_type": "code",
   "execution_count": 4,
   "metadata": {},
   "outputs": [
    {
     "data": {
      "text/plain": [
       "(145366, 2)"
      ]
     },
     "execution_count": 4,
     "metadata": {},
     "output_type": "execute_result"
    }
   ],
   "source": [
    "data.shape"
   ]
  },
  {
   "cell_type": "code",
   "execution_count": 5,
   "metadata": {},
   "outputs": [
    {
     "data": {
      "text/plain": [
       "<AxesSubplot:>"
      ]
     },
     "execution_count": 5,
     "metadata": {},
     "output_type": "execute_result"
    },
    {
     "data": {
      "image/png": "[encoded data removed]",
      "text/plain": [
       "<Figure size 432x288 with 1 Axes>"
      ]
     },
     "metadata": {
      "needs_background": "light"
     },
     "output_type": "display_data"
    }
   ],
   "source": [
    "data.plot()"
   ]
  },
  {
   "cell_type": "code",
   "execution_count": 6,
   "metadata": {},
   "outputs": [],
   "source": [
    "data.columns =['ds','y']"
   ]
  },
  {
   "cell_type": "code",
   "execution_count": 7,
   "metadata": {},
   "outputs": [
    {
     "data": {
      "text/html": [
       "<div>\n",
       "<style scoped>\n",
       "    .dataframe tbody tr th:only-of-type {\n",
       "        vertical-align: middle;\n",
       "    }\n",
       "\n",
       "    .dataframe tbody tr th {\n",
       "        vertical-align: top;\n",
       "    }\n",
       "\n",
       "    .dataframe thead th {\n",
       "        text-align: right;\n",
       "    }\n",
       "</style>\n",
       "<table border=\"1\" class=\"dataframe\">\n",
       "  <thead>\n",
       "    <tr style=\"text-align: right;\">\n",
       "      <th></th>\n",
       "      <th>ds</th>\n",
       "      <th>y</th>\n",
       "    </tr>\n",
       "  </thead>\n",
       "  <tbody>\n",
       "    <tr>\n",
       "      <th>145361</th>\n",
       "      <td>2018-01-01 20:00:00</td>\n",
       "      <td>44284.0</td>\n",
       "    </tr>\n",
       "    <tr>\n",
       "      <th>145362</th>\n",
       "      <td>2018-01-01 21:00:00</td>\n",
       "      <td>43751.0</td>\n",
       "    </tr>\n",
       "    <tr>\n",
       "      <th>145363</th>\n",
       "      <td>2018-01-01 22:00:00</td>\n",
       "      <td>42402.0</td>\n",
       "    </tr>\n",
       "    <tr>\n",
       "      <th>145364</th>\n",
       "      <td>2018-01-01 23:00:00</td>\n",
       "      <td>40164.0</td>\n",
       "    </tr>\n",
       "    <tr>\n",
       "      <th>145365</th>\n",
       "      <td>2018-01-02 00:00:00</td>\n",
       "      <td>38608.0</td>\n",
       "    </tr>\n",
       "  </tbody>\n",
       "</table>\n",
       "</div>"
      ],
      "text/plain": [
       "                         ds        y\n",
       "145361  2018-01-01 20:00:00  44284.0\n",
       "145362  2018-01-01 21:00:00  43751.0\n",
       "145363  2018-01-01 22:00:00  42402.0\n",
       "145364  2018-01-01 23:00:00  40164.0\n",
       "145365  2018-01-02 00:00:00  38608.0"
      ]
     },
     "execution_count": 7,
     "metadata": {},
     "output_type": "execute_result"
    }
   ],
   "source": [
    "data.tail()"
   ]
  },
  {
   "cell_type": "code",
   "execution_count": 8,
   "metadata": {},
   "outputs": [],
   "source": [
    "data['ds'] = pd.to_datetime(data['ds'])"
   ]
  },
  {
   "cell_type": "code",
   "execution_count": 9,
   "metadata": {},
   "outputs": [
    {
     "data": {
      "text/html": [
       "<div>\n",
       "<style scoped>\n",
       "    .dataframe tbody tr th:only-of-type {\n",
       "        vertical-align: middle;\n",
       "    }\n",
       "\n",
       "    .dataframe tbody tr th {\n",
       "        vertical-align: top;\n",
       "    }\n",
       "\n",
       "    .dataframe thead th {\n",
       "        text-align: right;\n",
       "    }\n",
       "</style>\n",
       "<table border=\"1\" class=\"dataframe\">\n",
       "  <thead>\n",
       "    <tr style=\"text-align: right;\">\n",
       "      <th></th>\n",
       "      <th>ds</th>\n",
       "      <th>y</th>\n",
       "    </tr>\n",
       "  </thead>\n",
       "  <tbody>\n",
       "    <tr>\n",
       "      <th>145361</th>\n",
       "      <td>2018-01-01 20:00:00</td>\n",
       "      <td>44284.0</td>\n",
       "    </tr>\n",
       "    <tr>\n",
       "      <th>145362</th>\n",
       "      <td>2018-01-01 21:00:00</td>\n",
       "      <td>43751.0</td>\n",
       "    </tr>\n",
       "    <tr>\n",
       "      <th>145363</th>\n",
       "      <td>2018-01-01 22:00:00</td>\n",
       "      <td>42402.0</td>\n",
       "    </tr>\n",
       "    <tr>\n",
       "      <th>145364</th>\n",
       "      <td>2018-01-01 23:00:00</td>\n",
       "      <td>40164.0</td>\n",
       "    </tr>\n",
       "    <tr>\n",
       "      <th>145365</th>\n",
       "      <td>2018-01-02 00:00:00</td>\n",
       "      <td>38608.0</td>\n",
       "    </tr>\n",
       "  </tbody>\n",
       "</table>\n",
       "</div>"
      ],
      "text/plain": [
       "                        ds        y\n",
       "145361 2018-01-01 20:00:00  44284.0\n",
       "145362 2018-01-01 21:00:00  43751.0\n",
       "145363 2018-01-01 22:00:00  42402.0\n",
       "145364 2018-01-01 23:00:00  40164.0\n",
       "145365 2018-01-02 00:00:00  38608.0"
      ]
     },
     "execution_count": 9,
     "metadata": {},
     "output_type": "execute_result"
    }
   ],
   "source": [
    "data.tail()"
   ]
  },
  {
   "cell_type": "code",
   "execution_count": 10,
   "metadata": {},
   "outputs": [],
   "source": [
    "from fbprophet import Prophet"
   ]
  },
  {
   "cell_type": "code",
   "execution_count": 11,
   "metadata": {
    "scrolled": true
   },
   "outputs": [
    {
     "data": {
      "text/plain": [
       "['__class__',\n",
       " '__delattr__',\n",
       " '__dict__',\n",
       " '__dir__',\n",
       " '__doc__',\n",
       " '__eq__',\n",
       " '__format__',\n",
       " '__ge__',\n",
       " '__getattribute__',\n",
       " '__gt__',\n",
       " '__hash__',\n",
       " '__init__',\n",
       " '__init_subclass__',\n",
       " '__le__',\n",
       " '__lt__',\n",
       " '__module__',\n",
       " '__ne__',\n",
       " '__new__',\n",
       " '__reduce__',\n",
       " '__reduce_ex__',\n",
       " '__repr__',\n",
       " '__setattr__',\n",
       " '__sizeof__',\n",
       " '__str__',\n",
       " '__subclasshook__',\n",
       " '__weakref__',\n",
       " '_load_stan_backend',\n",
       " 'add_country_holidays',\n",
       " 'add_group_component',\n",
       " 'add_regressor',\n",
       " 'add_seasonality',\n",
       " 'construct_holiday_dataframe',\n",
       " 'fit',\n",
       " 'flat_growth_init',\n",
       " 'flat_trend',\n",
       " 'fourier_series',\n",
       " 'initialize_scales',\n",
       " 'linear_growth_init',\n",
       " 'logistic_growth_init',\n",
       " 'make_all_seasonality_features',\n",
       " 'make_future_dataframe',\n",
       " 'make_holiday_features',\n",
       " 'make_seasonality_features',\n",
       " 'parse_seasonality_args',\n",
       " 'percentile',\n",
       " 'piecewise_linear',\n",
       " 'piecewise_logistic',\n",
       " 'plot',\n",
       " 'plot_components',\n",
       " 'predict',\n",
       " 'predict_seasonal_components',\n",
       " 'predict_trend',\n",
       " 'predict_uncertainty',\n",
       " 'predictive_samples',\n",
       " 'regressor_column_matrix',\n",
       " 'sample_model',\n",
       " 'sample_posterior_predictive',\n",
       " 'sample_predictive_trend',\n",
       " 'set_auto_seasonalities',\n",
       " 'set_changepoints',\n",
       " 'setup_dataframe',\n",
       " 'validate_column_name',\n",
       " 'validate_inputs']"
      ]
     },
     "execution_count": 11,
     "metadata": {},
     "output_type": "execute_result"
    }
   ],
   "source": [
    "dir(Prophet)"
   ]
  },
  {
   "cell_type": "code",
   "execution_count": 12,
   "metadata": {},
   "outputs": [],
   "source": [
    "model = Prophet(daily_seasonality=True)"
   ]
  },
  {
   "cell_type": "code",
   "execution_count": null,
   "metadata": {},
   "outputs": [
    {
     "name": "stderr",
     "output_type": "stream",
     "text": [
      "INFO:numexpr.utils:Note: NumExpr detected 12 cores but \"NUMEXPR_MAX_THREADS\" not set, so enforcing safe limit of 8.\n",
      "INFO:numexpr.utils:NumExpr defaulting to 8 threads.\n"
     ]
    }
   ],
   "source": [
    "model.fit(data)"
   ]
  },
  {
   "cell_type": "code",
   "execution_count": null,
   "metadata": {},
   "outputs": [],
   "source": [
    "model.component_modes"
   ]
  },
  {
   "cell_type": "code",
   "execution_count": null,
   "metadata": {},
   "outputs": [],
   "source": [
    "future_dates = model.make_future_dataframe(periods = 365)"
   ]
  },
  {
   "cell_type": "code",
   "execution_count": null,
   "metadata": {},
   "outputs": [],
   "source": [
    "future_dates.tail()"
   ]
  },
  {
   "cell_type": "code",
   "execution_count": null,
   "metadata": {},
   "outputs": [],
   "source": [
    "future_dates.head()"
   ]
  },
  {
   "cell_type": "code",
   "execution_count": null,
   "metadata": {},
   "outputs": [],
   "source": [
    "data.head()"
   ]
  },
  {
   "cell_type": "code",
   "execution_count": null,
   "metadata": {},
   "outputs": [],
   "source": [
    "predictions = model.predict(future_dates)"
   ]
  },
  {
   "cell_type": "code",
   "execution_count": null,
   "metadata": {},
   "outputs": [],
   "source": [
    "predictions.head()"
   ]
  }
 ],
 "metadata": {
  "kernelspec": {
   "display_name": "Python 3",
   "language": "python",
   "name": "python3"
  },
  "language_info": {
   "codemirror_mode": {
    "name": "ipython",
    "version": 3
   },
   "file_extension": ".py",
   "mimetype": "text/x-python",
   "name": "python",
   "nbconvert_exporter": "python",
   "pygments_lexer": "ipython3",
   "version": "3.8.5"
  }
 },
 "nbformat": 4,
 "nbformat_minor": 4
}
